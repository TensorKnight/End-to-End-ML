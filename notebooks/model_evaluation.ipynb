{
 "cells": [
  {
   "cell_type": "markdown",
   "id": "0fb5a1fc",
   "metadata": {},
   "source": [
    "### 1.0 Importing libraries"
   ]
  },
  {
   "cell_type": "code",
   "execution_count": 15,
   "id": "16dbefd3",
   "metadata": {},
   "outputs": [],
   "source": [
    "import pandas as pd\n",
    "import numpy as np\n",
    "import time\n",
    "import joblib\n",
    "from sklearn.model_selection import train_test_split\n",
    "from sklearn.metrics import accuracy_score, roc_auc_score, f1_score, precision_score, recall_score\n",
    "from sklearn.preprocessing import LabelEncoder\n",
    "from sklearn.linear_model import LogisticRegression, RidgeClassifier\n",
    "from sklearn.ensemble import RandomForestClassifier, GradientBoostingClassifier, AdaBoostClassifier, ExtraTreesClassifier\n",
    "from sklearn.naive_bayes import GaussianNB\n",
    "from sklearn.svm import SVC\n",
    "from sklearn.discriminant_analysis import LinearDiscriminantAnalysis, QuadraticDiscriminantAnalysis\n",
    "from sklearn.tree import DecisionTreeClassifier\n",
    "from sklearn.neighbors import KNeighborsClassifier\n",
    "from lightgbm import LGBMClassifier\n",
    "from xgboost import XGBClassifier\n",
    "from catboost import CatBoostClassifier\n",
    "import seaborn as sns\n",
    "import matplotlib.pyplot as plt\n",
    "from sklearn.preprocessing import MinMaxScaler\n",
    "from sklearn.metrics import confusion_matrix, ConfusionMatrixDisplay, roc_curve, RocCurveDisplay, precision_recall_curve, PrecisionRecallDisplay\n",
    "import warnings\n",
    "warnings.simplefilter(action='ignore', category=FutureWarning)"
   ]
  },
  {
   "cell_type": "markdown",
   "id": "422d6ee7",
   "metadata": {},
   "source": [
    "### 1.1 Loading Dataset"
   ]
  },
  {
   "cell_type": "code",
   "execution_count": 16,
   "id": "e5135cfd",
   "metadata": {},
   "outputs": [],
   "source": [
    "df = pd.read_csv('datasets/updated_df.csv')"
   ]
  },
  {
   "cell_type": "markdown",
   "id": "10086aee",
   "metadata": {},
   "source": [
    "### 2.0 Model Evaluation"
   ]
  },
  {
   "cell_type": "code",
   "execution_count": 17,
   "id": "0fa6bbb0",
   "metadata": {},
   "outputs": [
    {
     "name": "stdout",
     "output_type": "stream",
     "text": [
      "                 Model  Accuracy       AUC  Precision    Recall        F1  \\\n",
      "0                 LGBM     1.000  1.000000   1.000000  1.000000  1.000000   \n",
      "2             CatBoost     1.000  1.000000   1.000000  1.000000  1.000000   \n",
      "3     GradientBoosting     1.000  1.000000   1.000000  1.000000  1.000000   \n",
      "11        DecisionTree     1.000  1.000000   1.000000  1.000000  1.000000   \n",
      "13            AdaBoost     1.000  1.000000   1.000000  1.000000  1.000000   \n",
      "8                  SVM     0.999  1.000000   0.997305  1.000000  0.998650   \n",
      "1              XGBoost     0.999  1.000000   1.000000  0.997297  0.998647   \n",
      "4         RandomForest     0.999  1.000000   1.000000  0.997297  0.998647   \n",
      "6   LogisticRegression     0.998  1.000000   0.994624  1.000000  0.997305   \n",
      "5           ExtraTrees     0.996  0.999970   0.994595  0.994595  0.994595   \n",
      "12                 KNN     0.989  0.999472   0.981233  0.989189  0.985195   \n",
      "7           NaiveBayes     0.895  0.973295   0.867036  0.845946  0.856361   \n",
      "10     RidgeClassifier     0.896  0.000000   0.918239  0.789189  0.848837   \n",
      "9                  LDA     0.895  0.987023   0.915361  0.789189  0.847605   \n",
      "\n",
      "        Time  \n",
      "0   0.243127  \n",
      "2   1.734787  \n",
      "3   1.477206  \n",
      "11  0.037408  \n",
      "13  0.850188  \n",
      "8   0.351360  \n",
      "1   0.161162  \n",
      "4   0.533270  \n",
      "6   0.029585  \n",
      "5   0.661975  \n",
      "12  0.148491  \n",
      "7   0.017856  \n",
      "10  0.021791  \n",
      "9   0.023017  \n",
      "\n",
      "Best Model: SVM\n",
      "F1 Score: 0.9986504723346828\n"
     ]
    }
   ],
   "source": [
    "X = df.drop(columns=['Habitable', 'Area Name'])\n",
    "y = df['Habitable']\n",
    "\n",
    "scaler = MinMaxScaler()\n",
    "X_scaled = scaler.fit_transform(X)\n",
    "\n",
    "X_train, X_test, y_train, y_test = train_test_split(X_scaled, y, test_size=0.2, random_state=42)\n",
    "\n",
    "models = {\n",
    "    \"LGBM\": LGBMClassifier(verbose=-1, n_estimators=100),\n",
    "    \"XGBoost\": XGBClassifier(verbosity=0, n_estimators=100, use_label_encoder=False),\n",
    "    \"CatBoost\": CatBoostClassifier(verbose=0, n_estimators=100),\n",
    "    \"GradientBoosting\": GradientBoostingClassifier(n_estimators=100),\n",
    "    \"RandomForest\": RandomForestClassifier(n_estimators=100),\n",
    "    \"ExtraTrees\": ExtraTreesClassifier(n_estimators=100),\n",
    "    \"LogisticRegression\": LogisticRegression(max_iter=5000),\n",
    "    \"NaiveBayes\": GaussianNB(),\n",
    "    \"SVM\": SVC(kernel='linear', probability=True),\n",
    "    \"LDA\": LinearDiscriminantAnalysis(),\n",
    "    \"RidgeClassifier\": RidgeClassifier(),\n",
    "    \"DecisionTree\": DecisionTreeClassifier(),\n",
    "    \"KNN\": KNeighborsClassifier(),\n",
    "    \"AdaBoost\": AdaBoostClassifier(n_estimators=100)\n",
    "}\n",
    "\n",
    "results = []\n",
    "best_model = None\n",
    "best_score = 0\n",
    "\n",
    "for name, model in models.items():\n",
    "    start = time.time()\n",
    "    model.fit(X_train, y_train)\n",
    "    y_pred = model.predict(X_test)\n",
    "    y_proba = model.predict_proba(X_test)[:, 1] if hasattr(model, \"predict_proba\") else None\n",
    "\n",
    "    acc = accuracy_score(y_test, y_pred)\n",
    "    auc = roc_auc_score(y_test, y_proba) if y_proba is not None else 0\n",
    "    f1 = f1_score(y_test, y_pred)\n",
    "    precision = precision_score(y_test, y_pred)\n",
    "    recall = recall_score(y_test, y_pred)\n",
    "    tt = time.time() - start\n",
    "\n",
    "    results.append([name, acc, auc, precision, recall, f1, tt])\n",
    "\n",
    "    if f1 > best_score and f1 != 1.0:\n",
    "        best_score = f1\n",
    "        best_model = model\n",
    "        best_model_name = name\n",
    "        best_preds = y_pred\n",
    "\n",
    "results_df = pd.DataFrame(results, columns=[\"Model\", \"Accuracy\", \"AUC\", \"Precision\", \"Recall\", \"F1\", \"Time\"])\n",
    "print(results_df.sort_values(by=\"F1\", ascending=False))\n",
    "\n",
    "print(f\"\\nBest Model: {best_model_name}\")\n",
    "print(f\"F1 Score: {best_score}\")"
   ]
  },
  {
   "cell_type": "markdown",
   "id": "9d6c9bff",
   "metadata": {},
   "source": [
    "### 3.0 Result display "
   ]
  },
  {
   "cell_type": "code",
   "execution_count": 18,
   "id": "82e7a4b7",
   "metadata": {},
   "outputs": [
    {
     "data": {
      "image/png": "[encoded data removed]",
      "text/plain": [
       "<Figure size 640x480 with 2 Axes>"
      ]
     },
     "metadata": {},
     "output_type": "display_data"
    }
   ],
   "source": [
    "cm = confusion_matrix(y_test, best_preds)\n",
    "disp = ConfusionMatrixDisplay(confusion_matrix=cm)\n",
    "disp.plot(cmap='Blues')\n",
    "plt.title(f'Confusion Matrix – {best_model_name}')\n",
    "plt.show()"
   ]
  }
 ],
 "metadata": {
  "kernelspec": {
   "display_name": "base",
   "language": "python",
   "name": "python3"
  },
  "language_info": {
   "codemirror_mode": {
    "name": "ipython",
    "version": 3
   },
   "file_extension": ".py",
   "mimetype": "text/x-python",
   "name": "python",
   "nbconvert_exporter": "python",
   "pygments_lexer": "ipython3",
   "version": "3.11.7"
  }
 },
 "nbformat": 4,
 "nbformat_minor": 5
}
